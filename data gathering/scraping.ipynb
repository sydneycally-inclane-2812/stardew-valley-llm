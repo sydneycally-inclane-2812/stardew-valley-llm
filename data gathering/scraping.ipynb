{
 "cells": [
  {
   "cell_type": "code",
   "execution_count": 26,
   "metadata": {},
   "outputs": [],
   "source": [
    "import addy\n",
    "import re\n",
    "import requests\n",
    "import json\n",
    "from bs4 import BeautifulSoup"
   ]
  },
  {
   "cell_type": "code",
   "execution_count": 29,
   "metadata": {},
   "outputs": [
    {
     "ename": "AttributeError",
     "evalue": "module 'addy' has no attribute 'npc_pages'",
     "output_type": "error",
     "traceback": [
      "\u001b[1;31m---------------------------------------------------------------------------\u001b[0m",
      "\u001b[1;31mAttributeError\u001b[0m                            Traceback (most recent call last)",
      "Cell \u001b[1;32mIn[29], line 11\u001b[0m\n\u001b[0;32m      1\u001b[0m \u001b[38;5;66;03m# Retrieving the endpoints\u001b[39;00m\n\u001b[0;32m      2\u001b[0m \u001b[38;5;66;03m#soup = BeautifulSoup(requests.get(addy.npc).text, \"html.parser\")\u001b[39;00m\n\u001b[0;32m      3\u001b[0m \n\u001b[1;32m   (...)\u001b[0m\n\u001b[0;32m      9\u001b[0m \n\u001b[0;32m     10\u001b[0m \u001b[38;5;66;03m# Retrieval is already done, just import over at\u001b[39;00m\n\u001b[1;32m---> 11\u001b[0m ep \u001b[38;5;241m=\u001b[39m \u001b[43maddy\u001b[49m\u001b[38;5;241;43m.\u001b[39;49m\u001b[43mnpc_pages\u001b[49m\n",
      "\u001b[1;31mAttributeError\u001b[0m: module 'addy' has no attribute 'npc_pages'"
     ]
    }
   ],
   "source": [
    "# Retrieving the endpoints\n",
    "#soup = BeautifulSoup(requests.get(addy.npc).text, \"html.parser\")\n",
    "\n",
    "# Processing to get the endpoints\n",
    "# ep = soup.find_all(\"a\")\n",
    "# ep = ep[8:2*(12+22+12)+8]\n",
    "# ep = [ep[i].get(\"href\") for i in range(len(ep))]\n",
    "# ep = ep[::2]\n",
    "\n",
    "# Retrieval is already done, just import over at\n",
    "ep = addy.npc_pages"
   ]
  },
  {
   "cell_type": "code",
   "execution_count": null,
   "metadata": {},
   "outputs": [],
   "source": []
  },
  {
   "cell_type": "code",
   "execution_count": null,
   "metadata": {},
   "outputs": [],
   "source": [
    "grouping"
   ]
  }
 ],
 "metadata": {
  "kernelspec": {
   "display_name": "Python 3",
   "language": "python",
   "name": "python3"
  },
  "language_info": {
   "codemirror_mode": {
    "name": "ipython",
    "version": 3
   },
   "file_extension": ".py",
   "mimetype": "text/x-python",
   "name": "python",
   "nbconvert_exporter": "python",
   "pygments_lexer": "ipython3",
   "version": "3.13.0"
  }
 },
 "nbformat": 4,
 "nbformat_minor": 2
}
