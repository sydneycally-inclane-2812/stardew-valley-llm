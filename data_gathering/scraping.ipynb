{
 "cells": [
  {
   "cell_type": "code",
   "execution_count": 1,
   "metadata": {},
   "outputs": [],
   "source": [
    "import addy\n",
    "import re\n",
    "import requests\n",
    "import json\n",
    "from bs4 import BeautifulSoup"
   ]
  },
  {
   "cell_type": "code",
   "execution_count": 2,
   "metadata": {},
   "outputs": [],
   "source": [
    "# Retrieving the endpoints\n",
    "#soup = BeautifulSoup(requests.get(addy.npc).text, \"html.parser\")\n",
    "\n",
    "# Processing to get the endpoints\n",
    "# ep = soup.find_all(\"a\")\n",
    "# ep = ep[8:2*(12+22+12)+8]\n",
    "# ep = [ep[i].get(\"href\") for i in range(len(ep))]\n",
    "# ep = ep[::2]\n",
    "\n",
    "# Retrieval is already done, just import over at\n",
    "ep = addy.npc_pages"
   ]
  },
  {
   "cell_type": "code",
   "execution_count": 3,
   "metadata": {},
   "outputs": [],
   "source": [
    "quotes_storage_addr = r\"E:\\Projects\\StardewScrapingSLM(FT_RAG)\\data gathering\\assets\\quotes_data\"\n",
    "def get_quotes(endpoint):\n",
    "    link = addy.npc.strip(\"/Villagers\") + endpoint\n",
    "    print(link)"
   ]
  },
  {
   "cell_type": "code",
   "execution_count": 4,
   "metadata": {},
   "outputs": [
    {
     "name": "stdout",
     "output_type": "stream",
     "text": [
      "https://stardewvalleywiki.com/Alex\n"
     ]
    }
   ],
   "source": [
    "get_quotes(ep[0])"
   ]
  }
 ],
 "metadata": {
  "kernelspec": {
   "display_name": "Python 3",
   "language": "python",
   "name": "python3"
  },
  "language_info": {
   "codemirror_mode": {
    "name": "ipython",
    "version": 3
   },
   "file_extension": ".py",
   "mimetype": "text/x-python",
   "name": "python",
   "nbconvert_exporter": "python",
   "pygments_lexer": "ipython3",
   "version": "3.13.0"
  }
 },
 "nbformat": 4,
 "nbformat_minor": 2
}
